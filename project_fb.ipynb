{
 "cells": [
  {
   "cell_type": "code",
   "execution_count": 1,
   "metadata": {},
   "outputs": [],
   "source": [
    "fpath=\"S:/upx-coding/\"\n"
   ]
  },
  {
   "cell_type": "code",
   "execution_count": 2,
   "metadata": {
    "scrolled": true
   },
   "outputs": [
    {
     "data": {
      "text/html": [
       "<div>\n",
       "<style scoped>\n",
       "    .dataframe tbody tr th:only-of-type {\n",
       "        vertical-align: middle;\n",
       "    }\n",
       "\n",
       "    .dataframe tbody tr th {\n",
       "        vertical-align: top;\n",
       "    }\n",
       "\n",
       "    .dataframe thead th {\n",
       "        text-align: right;\n",
       "    }\n",
       "</style>\n",
       "<table border=\"1\" class=\"dataframe\">\n",
       "  <thead>\n",
       "    <tr style=\"text-align: right;\">\n",
       "      <th></th>\n",
       "      <th>userid</th>\n",
       "      <th>age</th>\n",
       "      <th>dob_day</th>\n",
       "      <th>dob_year</th>\n",
       "      <th>dob_month</th>\n",
       "      <th>gender</th>\n",
       "      <th>tenure</th>\n",
       "      <th>friend_count</th>\n",
       "      <th>friendships_initiated</th>\n",
       "      <th>likes</th>\n",
       "      <th>likes_received</th>\n",
       "      <th>mobile_likes</th>\n",
       "      <th>mobile_likes_received</th>\n",
       "      <th>www_likes</th>\n",
       "      <th>www_likes_received</th>\n",
       "    </tr>\n",
       "  </thead>\n",
       "  <tbody>\n",
       "    <tr>\n",
       "      <th>0</th>\n",
       "      <td>2094382</td>\n",
       "      <td>14</td>\n",
       "      <td>19</td>\n",
       "      <td>1999</td>\n",
       "      <td>11</td>\n",
       "      <td>male</td>\n",
       "      <td>266.0</td>\n",
       "      <td>0</td>\n",
       "      <td>0</td>\n",
       "      <td>0</td>\n",
       "      <td>0</td>\n",
       "      <td>0</td>\n",
       "      <td>0</td>\n",
       "      <td>0</td>\n",
       "      <td>0</td>\n",
       "    </tr>\n",
       "    <tr>\n",
       "      <th>1</th>\n",
       "      <td>1192601</td>\n",
       "      <td>14</td>\n",
       "      <td>2</td>\n",
       "      <td>1999</td>\n",
       "      <td>11</td>\n",
       "      <td>female</td>\n",
       "      <td>6.0</td>\n",
       "      <td>0</td>\n",
       "      <td>0</td>\n",
       "      <td>0</td>\n",
       "      <td>0</td>\n",
       "      <td>0</td>\n",
       "      <td>0</td>\n",
       "      <td>0</td>\n",
       "      <td>0</td>\n",
       "    </tr>\n",
       "    <tr>\n",
       "      <th>2</th>\n",
       "      <td>2083884</td>\n",
       "      <td>14</td>\n",
       "      <td>16</td>\n",
       "      <td>1999</td>\n",
       "      <td>11</td>\n",
       "      <td>male</td>\n",
       "      <td>13.0</td>\n",
       "      <td>0</td>\n",
       "      <td>0</td>\n",
       "      <td>0</td>\n",
       "      <td>0</td>\n",
       "      <td>0</td>\n",
       "      <td>0</td>\n",
       "      <td>0</td>\n",
       "      <td>0</td>\n",
       "    </tr>\n",
       "    <tr>\n",
       "      <th>3</th>\n",
       "      <td>1203168</td>\n",
       "      <td>14</td>\n",
       "      <td>25</td>\n",
       "      <td>1999</td>\n",
       "      <td>12</td>\n",
       "      <td>female</td>\n",
       "      <td>93.0</td>\n",
       "      <td>0</td>\n",
       "      <td>0</td>\n",
       "      <td>0</td>\n",
       "      <td>0</td>\n",
       "      <td>0</td>\n",
       "      <td>0</td>\n",
       "      <td>0</td>\n",
       "      <td>0</td>\n",
       "    </tr>\n",
       "    <tr>\n",
       "      <th>4</th>\n",
       "      <td>1733186</td>\n",
       "      <td>14</td>\n",
       "      <td>4</td>\n",
       "      <td>1999</td>\n",
       "      <td>12</td>\n",
       "      <td>male</td>\n",
       "      <td>82.0</td>\n",
       "      <td>0</td>\n",
       "      <td>0</td>\n",
       "      <td>0</td>\n",
       "      <td>0</td>\n",
       "      <td>0</td>\n",
       "      <td>0</td>\n",
       "      <td>0</td>\n",
       "      <td>0</td>\n",
       "    </tr>\n",
       "    <tr>\n",
       "      <th>5</th>\n",
       "      <td>1524765</td>\n",
       "      <td>14</td>\n",
       "      <td>1</td>\n",
       "      <td>1999</td>\n",
       "      <td>12</td>\n",
       "      <td>male</td>\n",
       "      <td>15.0</td>\n",
       "      <td>0</td>\n",
       "      <td>0</td>\n",
       "      <td>0</td>\n",
       "      <td>0</td>\n",
       "      <td>0</td>\n",
       "      <td>0</td>\n",
       "      <td>0</td>\n",
       "      <td>0</td>\n",
       "    </tr>\n",
       "    <tr>\n",
       "      <th>6</th>\n",
       "      <td>1136133</td>\n",
       "      <td>13</td>\n",
       "      <td>14</td>\n",
       "      <td>2000</td>\n",
       "      <td>1</td>\n",
       "      <td>male</td>\n",
       "      <td>12.0</td>\n",
       "      <td>0</td>\n",
       "      <td>0</td>\n",
       "      <td>0</td>\n",
       "      <td>0</td>\n",
       "      <td>0</td>\n",
       "      <td>0</td>\n",
       "      <td>0</td>\n",
       "      <td>0</td>\n",
       "    </tr>\n",
       "    <tr>\n",
       "      <th>7</th>\n",
       "      <td>1680361</td>\n",
       "      <td>13</td>\n",
       "      <td>4</td>\n",
       "      <td>2000</td>\n",
       "      <td>1</td>\n",
       "      <td>female</td>\n",
       "      <td>0.0</td>\n",
       "      <td>0</td>\n",
       "      <td>0</td>\n",
       "      <td>0</td>\n",
       "      <td>0</td>\n",
       "      <td>0</td>\n",
       "      <td>0</td>\n",
       "      <td>0</td>\n",
       "      <td>0</td>\n",
       "    </tr>\n",
       "    <tr>\n",
       "      <th>8</th>\n",
       "      <td>1365174</td>\n",
       "      <td>13</td>\n",
       "      <td>1</td>\n",
       "      <td>2000</td>\n",
       "      <td>1</td>\n",
       "      <td>male</td>\n",
       "      <td>81.0</td>\n",
       "      <td>0</td>\n",
       "      <td>0</td>\n",
       "      <td>0</td>\n",
       "      <td>0</td>\n",
       "      <td>0</td>\n",
       "      <td>0</td>\n",
       "      <td>0</td>\n",
       "      <td>0</td>\n",
       "    </tr>\n",
       "    <tr>\n",
       "      <th>9</th>\n",
       "      <td>1712567</td>\n",
       "      <td>13</td>\n",
       "      <td>2</td>\n",
       "      <td>2000</td>\n",
       "      <td>2</td>\n",
       "      <td>male</td>\n",
       "      <td>171.0</td>\n",
       "      <td>0</td>\n",
       "      <td>0</td>\n",
       "      <td>0</td>\n",
       "      <td>0</td>\n",
       "      <td>0</td>\n",
       "      <td>0</td>\n",
       "      <td>0</td>\n",
       "      <td>0</td>\n",
       "    </tr>\n",
       "  </tbody>\n",
       "</table>\n",
       "</div>"
      ],
      "text/plain": [
       "    userid  age  dob_day  dob_year  dob_month  gender  tenure  friend_count  \\\n",
       "0  2094382   14       19      1999         11    male   266.0             0   \n",
       "1  1192601   14        2      1999         11  female     6.0             0   \n",
       "2  2083884   14       16      1999         11    male    13.0             0   \n",
       "3  1203168   14       25      1999         12  female    93.0             0   \n",
       "4  1733186   14        4      1999         12    male    82.0             0   \n",
       "5  1524765   14        1      1999         12    male    15.0             0   \n",
       "6  1136133   13       14      2000          1    male    12.0             0   \n",
       "7  1680361   13        4      2000          1  female     0.0             0   \n",
       "8  1365174   13        1      2000          1    male    81.0             0   \n",
       "9  1712567   13        2      2000          2    male   171.0             0   \n",
       "\n",
       "   friendships_initiated  likes  likes_received  mobile_likes  \\\n",
       "0                      0      0               0             0   \n",
       "1                      0      0               0             0   \n",
       "2                      0      0               0             0   \n",
       "3                      0      0               0             0   \n",
       "4                      0      0               0             0   \n",
       "5                      0      0               0             0   \n",
       "6                      0      0               0             0   \n",
       "7                      0      0               0             0   \n",
       "8                      0      0               0             0   \n",
       "9                      0      0               0             0   \n",
       "\n",
       "   mobile_likes_received  www_likes  www_likes_received  \n",
       "0                      0          0                   0  \n",
       "1                      0          0                   0  \n",
       "2                      0          0                   0  \n",
       "3                      0          0                   0  \n",
       "4                      0          0                   0  \n",
       "5                      0          0                   0  \n",
       "6                      0          0                   0  \n",
       "7                      0          0                   0  \n",
       "8                      0          0                   0  \n",
       "9                      0          0                   0  "
      ]
     },
     "execution_count": 2,
     "metadata": {},
     "output_type": "execute_result"
    }
   ],
   "source": [
    "#import tsv\n",
    "import pandas as pd\n",
    "import numpy as np\n",
    "fb = pd.read_table(fpath+'pseudo_facebook.tsv')\n",
    "fb.head(10)"
   ]
  },
  {
   "cell_type": "code",
   "execution_count": 3,
   "metadata": {},
   "outputs": [
    {
     "name": "stdout",
     "output_type": "stream",
     "text": [
      "<class 'pandas.core.frame.DataFrame'>\n",
      "RangeIndex: 99003 entries, 0 to 99002\n",
      "Data columns (total 15 columns):\n",
      "userid                   99003 non-null int64\n",
      "age                      99003 non-null int64\n",
      "dob_day                  99003 non-null int64\n",
      "dob_year                 99003 non-null int64\n",
      "dob_month                99003 non-null int64\n",
      "gender                   98828 non-null object\n",
      "tenure                   99001 non-null float64\n",
      "friend_count             99003 non-null int64\n",
      "friendships_initiated    99003 non-null int64\n",
      "likes                    99003 non-null int64\n",
      "likes_received           99003 non-null int64\n",
      "mobile_likes             99003 non-null int64\n",
      "mobile_likes_received    99003 non-null int64\n",
      "www_likes                99003 non-null int64\n",
      "www_likes_received       99003 non-null int64\n",
      "dtypes: float64(1), int64(13), object(1)\n",
      "memory usage: 11.3+ MB\n"
     ]
    }
   ],
   "source": [
    "fb.info()"
   ]
  },
  {
   "cell_type": "markdown",
   "metadata": {},
   "source": [
    "### Dealing with Missing Values\n",
    "\n",
    "**gender**                   98828 non-null object\n",
    "\n",
    "**tenure**                   99001 non-null float64\n"
   ]
  },
  {
   "cell_type": "code",
   "execution_count": 4,
   "metadata": {},
   "outputs": [
    {
     "data": {
      "text/html": [
       "<div>\n",
       "<style scoped>\n",
       "    .dataframe tbody tr th:only-of-type {\n",
       "        vertical-align: middle;\n",
       "    }\n",
       "\n",
       "    .dataframe tbody tr th {\n",
       "        vertical-align: top;\n",
       "    }\n",
       "\n",
       "    .dataframe thead th {\n",
       "        text-align: right;\n",
       "    }\n",
       "</style>\n",
       "<table border=\"1\" class=\"dataframe\">\n",
       "  <thead>\n",
       "    <tr style=\"text-align: right;\">\n",
       "      <th></th>\n",
       "      <th>userid</th>\n",
       "      <th>age</th>\n",
       "      <th>dob_day</th>\n",
       "      <th>dob_year</th>\n",
       "      <th>dob_month</th>\n",
       "      <th>gender</th>\n",
       "      <th>tenure</th>\n",
       "      <th>friend_count</th>\n",
       "      <th>friendships_initiated</th>\n",
       "      <th>likes</th>\n",
       "      <th>likes_received</th>\n",
       "      <th>mobile_likes</th>\n",
       "      <th>mobile_likes_received</th>\n",
       "      <th>www_likes</th>\n",
       "      <th>www_likes_received</th>\n",
       "    </tr>\n",
       "  </thead>\n",
       "  <tbody>\n",
       "    <tr>\n",
       "      <th>35057</th>\n",
       "      <td>1414063</td>\n",
       "      <td>88</td>\n",
       "      <td>14</td>\n",
       "      <td>1925</td>\n",
       "      <td>12</td>\n",
       "      <td>female</td>\n",
       "      <td>NaN</td>\n",
       "      <td>48</td>\n",
       "      <td>41</td>\n",
       "      <td>18</td>\n",
       "      <td>5</td>\n",
       "      <td>17</td>\n",
       "      <td>3</td>\n",
       "      <td>1</td>\n",
       "      <td>2</td>\n",
       "    </tr>\n",
       "    <tr>\n",
       "      <th>63979</th>\n",
       "      <td>2095829</td>\n",
       "      <td>103</td>\n",
       "      <td>1</td>\n",
       "      <td>1910</td>\n",
       "      <td>1</td>\n",
       "      <td>female</td>\n",
       "      <td>NaN</td>\n",
       "      <td>137</td>\n",
       "      <td>52</td>\n",
       "      <td>110</td>\n",
       "      <td>74</td>\n",
       "      <td>0</td>\n",
       "      <td>21</td>\n",
       "      <td>110</td>\n",
       "      <td>53</td>\n",
       "    </tr>\n",
       "  </tbody>\n",
       "</table>\n",
       "</div>"
      ],
      "text/plain": [
       "        userid  age  dob_day  dob_year  dob_month  gender  tenure  \\\n",
       "35057  1414063   88       14      1925         12  female     NaN   \n",
       "63979  2095829  103        1      1910          1  female     NaN   \n",
       "\n",
       "       friend_count  friendships_initiated  likes  likes_received  \\\n",
       "35057            48                     41     18               5   \n",
       "63979           137                     52    110              74   \n",
       "\n",
       "       mobile_likes  mobile_likes_received  www_likes  www_likes_received  \n",
       "35057            17                      3          1                   2  \n",
       "63979             0                     21        110                  53  "
      ]
     },
     "execution_count": 4,
     "metadata": {},
     "output_type": "execute_result"
    }
   ],
   "source": [
    "fb[fb['tenure'].isnull()]"
   ]
  },
  {
   "cell_type": "code",
   "execution_count": 5,
   "metadata": {
    "scrolled": true
   },
   "outputs": [
    {
     "data": {
      "text/html": [
       "<div>\n",
       "<style scoped>\n",
       "    .dataframe tbody tr th:only-of-type {\n",
       "        vertical-align: middle;\n",
       "    }\n",
       "\n",
       "    .dataframe tbody tr th {\n",
       "        vertical-align: top;\n",
       "    }\n",
       "\n",
       "    .dataframe thead th {\n",
       "        text-align: right;\n",
       "    }\n",
       "</style>\n",
       "<table border=\"1\" class=\"dataframe\">\n",
       "  <thead>\n",
       "    <tr style=\"text-align: right;\">\n",
       "      <th></th>\n",
       "      <th>userid</th>\n",
       "      <th>age</th>\n",
       "      <th>dob_day</th>\n",
       "      <th>dob_year</th>\n",
       "      <th>dob_month</th>\n",
       "      <th>gender</th>\n",
       "      <th>tenure</th>\n",
       "      <th>friend_count</th>\n",
       "      <th>friendships_initiated</th>\n",
       "      <th>likes</th>\n",
       "      <th>likes_received</th>\n",
       "      <th>mobile_likes</th>\n",
       "      <th>mobile_likes_received</th>\n",
       "      <th>www_likes</th>\n",
       "      <th>www_likes_received</th>\n",
       "    </tr>\n",
       "  </thead>\n",
       "  <tbody>\n",
       "    <tr>\n",
       "      <th>34748</th>\n",
       "      <td>1818602</td>\n",
       "      <td>101</td>\n",
       "      <td>11</td>\n",
       "      <td>1912</td>\n",
       "      <td>12</td>\n",
       "      <td>female</td>\n",
       "      <td>824.0</td>\n",
       "      <td>48</td>\n",
       "      <td>30</td>\n",
       "      <td>1</td>\n",
       "      <td>1</td>\n",
       "      <td>1</td>\n",
       "      <td>1</td>\n",
       "      <td>0</td>\n",
       "      <td>0</td>\n",
       "    </tr>\n",
       "    <tr>\n",
       "      <th>34819</th>\n",
       "      <td>2097493</td>\n",
       "      <td>103</td>\n",
       "      <td>1</td>\n",
       "      <td>1910</td>\n",
       "      <td>1</td>\n",
       "      <td>female</td>\n",
       "      <td>594.0</td>\n",
       "      <td>49</td>\n",
       "      <td>7</td>\n",
       "      <td>2</td>\n",
       "      <td>6</td>\n",
       "      <td>2</td>\n",
       "      <td>6</td>\n",
       "      <td>0</td>\n",
       "      <td>0</td>\n",
       "    </tr>\n",
       "    <tr>\n",
       "      <th>35031</th>\n",
       "      <td>1915219</td>\n",
       "      <td>99</td>\n",
       "      <td>8</td>\n",
       "      <td>1914</td>\n",
       "      <td>9</td>\n",
       "      <td>female</td>\n",
       "      <td>24.0</td>\n",
       "      <td>49</td>\n",
       "      <td>30</td>\n",
       "      <td>15</td>\n",
       "      <td>19</td>\n",
       "      <td>1</td>\n",
       "      <td>15</td>\n",
       "      <td>14</td>\n",
       "      <td>4</td>\n",
       "    </tr>\n",
       "    <tr>\n",
       "      <th>35057</th>\n",
       "      <td>1414063</td>\n",
       "      <td>88</td>\n",
       "      <td>14</td>\n",
       "      <td>1925</td>\n",
       "      <td>12</td>\n",
       "      <td>female</td>\n",
       "      <td>NaN</td>\n",
       "      <td>48</td>\n",
       "      <td>41</td>\n",
       "      <td>18</td>\n",
       "      <td>5</td>\n",
       "      <td>17</td>\n",
       "      <td>3</td>\n",
       "      <td>1</td>\n",
       "      <td>2</td>\n",
       "    </tr>\n",
       "    <tr>\n",
       "      <th>35329</th>\n",
       "      <td>1377781</td>\n",
       "      <td>100</td>\n",
       "      <td>28</td>\n",
       "      <td>1913</td>\n",
       "      <td>8</td>\n",
       "      <td>female</td>\n",
       "      <td>555.0</td>\n",
       "      <td>48</td>\n",
       "      <td>8</td>\n",
       "      <td>128</td>\n",
       "      <td>130</td>\n",
       "      <td>128</td>\n",
       "      <td>103</td>\n",
       "      <td>0</td>\n",
       "      <td>27</td>\n",
       "    </tr>\n",
       "    <tr>\n",
       "      <th>35389</th>\n",
       "      <td>1135014</td>\n",
       "      <td>102</td>\n",
       "      <td>15</td>\n",
       "      <td>1911</td>\n",
       "      <td>10</td>\n",
       "      <td>female</td>\n",
       "      <td>2261.0</td>\n",
       "      <td>49</td>\n",
       "      <td>14</td>\n",
       "      <td>250</td>\n",
       "      <td>160</td>\n",
       "      <td>112</td>\n",
       "      <td>41</td>\n",
       "      <td>138</td>\n",
       "      <td>119</td>\n",
       "    </tr>\n",
       "    <tr>\n",
       "      <th>35665</th>\n",
       "      <td>1502001</td>\n",
       "      <td>95</td>\n",
       "      <td>9</td>\n",
       "      <td>1918</td>\n",
       "      <td>9</td>\n",
       "      <td>female</td>\n",
       "      <td>412.0</td>\n",
       "      <td>51</td>\n",
       "      <td>9</td>\n",
       "      <td>0</td>\n",
       "      <td>0</td>\n",
       "      <td>0</td>\n",
       "      <td>0</td>\n",
       "      <td>0</td>\n",
       "      <td>0</td>\n",
       "    </tr>\n",
       "    <tr>\n",
       "      <th>35666</th>\n",
       "      <td>2152739</td>\n",
       "      <td>97</td>\n",
       "      <td>9</td>\n",
       "      <td>1916</td>\n",
       "      <td>6</td>\n",
       "      <td>female</td>\n",
       "      <td>370.0</td>\n",
       "      <td>51</td>\n",
       "      <td>43</td>\n",
       "      <td>0</td>\n",
       "      <td>0</td>\n",
       "      <td>0</td>\n",
       "      <td>0</td>\n",
       "      <td>0</td>\n",
       "      <td>0</td>\n",
       "    </tr>\n",
       "    <tr>\n",
       "      <th>35687</th>\n",
       "      <td>1097938</td>\n",
       "      <td>90</td>\n",
       "      <td>2</td>\n",
       "      <td>1923</td>\n",
       "      <td>11</td>\n",
       "      <td>female</td>\n",
       "      <td>359.0</td>\n",
       "      <td>50</td>\n",
       "      <td>34</td>\n",
       "      <td>1</td>\n",
       "      <td>1</td>\n",
       "      <td>0</td>\n",
       "      <td>0</td>\n",
       "      <td>1</td>\n",
       "      <td>1</td>\n",
       "    </tr>\n",
       "    <tr>\n",
       "      <th>35799</th>\n",
       "      <td>1048048</td>\n",
       "      <td>100</td>\n",
       "      <td>23</td>\n",
       "      <td>1913</td>\n",
       "      <td>8</td>\n",
       "      <td>female</td>\n",
       "      <td>784.0</td>\n",
       "      <td>51</td>\n",
       "      <td>28</td>\n",
       "      <td>2</td>\n",
       "      <td>24</td>\n",
       "      <td>2</td>\n",
       "      <td>22</td>\n",
       "      <td>0</td>\n",
       "      <td>2</td>\n",
       "    </tr>\n",
       "  </tbody>\n",
       "</table>\n",
       "</div>"
      ],
      "text/plain": [
       "        userid  age  dob_day  dob_year  dob_month  gender  tenure  \\\n",
       "34748  1818602  101       11      1912         12  female   824.0   \n",
       "34819  2097493  103        1      1910          1  female   594.0   \n",
       "35031  1915219   99        8      1914          9  female    24.0   \n",
       "35057  1414063   88       14      1925         12  female     NaN   \n",
       "35329  1377781  100       28      1913          8  female   555.0   \n",
       "35389  1135014  102       15      1911         10  female  2261.0   \n",
       "35665  1502001   95        9      1918          9  female   412.0   \n",
       "35666  2152739   97        9      1916          6  female   370.0   \n",
       "35687  1097938   90        2      1923         11  female   359.0   \n",
       "35799  1048048  100       23      1913          8  female   784.0   \n",
       "\n",
       "       friend_count  friendships_initiated  likes  likes_received  \\\n",
       "34748            48                     30      1               1   \n",
       "34819            49                      7      2               6   \n",
       "35031            49                     30     15              19   \n",
       "35057            48                     41     18               5   \n",
       "35329            48                      8    128             130   \n",
       "35389            49                     14    250             160   \n",
       "35665            51                      9      0               0   \n",
       "35666            51                     43      0               0   \n",
       "35687            50                     34      1               1   \n",
       "35799            51                     28      2              24   \n",
       "\n",
       "       mobile_likes  mobile_likes_received  www_likes  www_likes_received  \n",
       "34748             1                      1          0                   0  \n",
       "34819             2                      6          0                   0  \n",
       "35031             1                     15         14                   4  \n",
       "35057            17                      3          1                   2  \n",
       "35329           128                    103          0                  27  \n",
       "35389           112                     41        138                 119  \n",
       "35665             0                      0          0                   0  \n",
       "35666             0                      0          0                   0  \n",
       "35687             0                      0          1                   1  \n",
       "35799             2                     22          0                   2  "
      ]
     },
     "execution_count": 5,
     "metadata": {},
     "output_type": "execute_result"
    }
   ],
   "source": [
    "fb[(fb.age >=88 )&(fb.age <=103 ) & (fb.friend_count >=48)&(fb.friend_count <=137) & (fb.gender =='female')].head(10)"
   ]
  },
  {
   "cell_type": "markdown",
   "metadata": {},
   "source": [
    "Here now we can replace tenure value with mean of above sample of dataframes with following condition:\n",
    "\n",
    "age is between(88,103)\n",
    "\n",
    "frined_count is between(48,137)\n",
    "\n",
    "gender = female"
   ]
  },
  {
   "cell_type": "code",
   "execution_count": 6,
   "metadata": {},
   "outputs": [
    {
     "data": {
      "text/plain": [
       "1024.5056603773585"
      ]
     },
     "execution_count": 6,
     "metadata": {},
     "output_type": "execute_result"
    }
   ],
   "source": [
    "fb['tenure'][(fb.age >=88 )&(fb.age <=103 ) & (fb.friend_count >=48)&(fb.friend_count <=137) & (fb.gender =='female')].mean()"
   ]
  },
  {
   "cell_type": "code",
   "execution_count": 7,
   "metadata": {},
   "outputs": [],
   "source": [
    "fb['tenure'].fillna(fb['tenure'][(fb.age >=88 )&(fb.age <=103 ) & (fb.friend_count >=48)&(fb.friend_count <=137) & (fb.gender =='female')].mean(),inplace=True)"
   ]
  },
  {
   "cell_type": "code",
   "execution_count": 8,
   "metadata": {},
   "outputs": [
    {
     "name": "stdout",
     "output_type": "stream",
     "text": [
      "<class 'pandas.core.frame.DataFrame'>\n",
      "RangeIndex: 99003 entries, 0 to 99002\n",
      "Data columns (total 15 columns):\n",
      "userid                   99003 non-null int64\n",
      "age                      99003 non-null int64\n",
      "dob_day                  99003 non-null int64\n",
      "dob_year                 99003 non-null int64\n",
      "dob_month                99003 non-null int64\n",
      "gender                   98828 non-null object\n",
      "tenure                   99003 non-null float64\n",
      "friend_count             99003 non-null int64\n",
      "friendships_initiated    99003 non-null int64\n",
      "likes                    99003 non-null int64\n",
      "likes_received           99003 non-null int64\n",
      "mobile_likes             99003 non-null int64\n",
      "mobile_likes_received    99003 non-null int64\n",
      "www_likes                99003 non-null int64\n",
      "www_likes_received       99003 non-null int64\n",
      "dtypes: float64(1), int64(13), object(1)\n",
      "memory usage: 11.3+ MB\n"
     ]
    }
   ],
   "source": [
    "fb.info()"
   ]
  },
  {
   "cell_type": "code",
   "execution_count": 9,
   "metadata": {},
   "outputs": [
    {
     "data": {
      "text/plain": [
       "userid                   2193542.0\n",
       "age                          113.0\n",
       "dob_day                       31.0\n",
       "dob_year                    2000.0\n",
       "dob_month                     12.0\n",
       "tenure                      3139.0\n",
       "friend_count                4923.0\n",
       "friendships_initiated       4144.0\n",
       "likes                      25111.0\n",
       "likes_received            261197.0\n",
       "mobile_likes               25111.0\n",
       "mobile_likes_received     138561.0\n",
       "www_likes                  14865.0\n",
       "www_likes_received        129953.0\n",
       "dtype: float64"
      ]
     },
     "execution_count": 9,
     "metadata": {},
     "output_type": "execute_result"
    }
   ],
   "source": [
    "fb.max()"
   ]
  },
  {
   "cell_type": "markdown",
   "metadata": {},
   "source": [
    "**Hypothesis #(1) :** There exist outlier in age\n",
    "\n",
    "In original data: max(age) is 113"
   ]
  },
  {
   "cell_type": "code",
   "execution_count": 10,
   "metadata": {},
   "outputs": [
    {
     "name": "stdout",
     "output_type": "stream",
     "text": [
      "<class 'pandas.core.frame.DataFrame'>\n",
      "Int64Index: 94689 entries, 0 to 99002\n",
      "Data columns (total 15 columns):\n",
      "userid                   94689 non-null int64\n",
      "age                      94689 non-null int64\n",
      "dob_day                  94689 non-null int64\n",
      "dob_year                 94689 non-null int64\n",
      "dob_month                94689 non-null int64\n",
      "gender                   94569 non-null object\n",
      "tenure                   94689 non-null float64\n",
      "friend_count             94689 non-null int64\n",
      "friendships_initiated    94689 non-null int64\n",
      "likes                    94689 non-null int64\n",
      "likes_received           94689 non-null int64\n",
      "mobile_likes             94689 non-null int64\n",
      "mobile_likes_received    94689 non-null int64\n",
      "www_likes                94689 non-null int64\n",
      "www_likes_received       94689 non-null int64\n",
      "dtypes: float64(1), int64(13), object(1)\n",
      "memory usage: 11.6+ MB\n"
     ]
    }
   ],
   "source": [
    "# Computing IQR\n",
    "Q1 = fb['age'].quantile(0.25)\n",
    "Q3 = fb['age'].quantile(0.75)\n",
    "IQR = Q3 - Q1\n",
    "\n",
    "# Filtering Values between Q1-1.5IQR and Q3+1.5IQR\n",
    "filtered = fb.query('(@Q1 - 1.5 * @IQR) <= age <= (@Q3 + 1.5 * @IQR)')\n",
    "filtered.info()"
   ]
  },
  {
   "cell_type": "code",
   "execution_count": 11,
   "metadata": {},
   "outputs": [],
   "source": [
    "import matplotlib.pyplot as plt\n",
    "%matplotlib inline\n",
    "import seaborn as sns\n",
    "import datetime"
   ]
  },
  {
   "cell_type": "code",
   "execution_count": 12,
   "metadata": {
    "scrolled": true
   },
   "outputs": [
    {
     "data": {
      "image/png": "[encoded data removed]",
      "text/plain": [
       "<matplotlib.figure.Figure at 0x17db9be56d8>"
      ]
     },
     "metadata": {},
     "output_type": "display_data"
    }
   ],
   "source": [
    "# Visualisation of Outlier\n",
    "fig = plt.figure(figsize=(15,4))\n",
    "sns.set_style(\"whitegrid\")\n",
    "sns.boxplot(x='age', data=filtered, color='c')\n",
    "plt.show()"
   ]
  },
  {
   "cell_type": "code",
   "execution_count": 13,
   "metadata": {},
   "outputs": [
    {
     "data": {
      "text/plain": [
       "userid                   2193542.0\n",
       "age                           95.0\n",
       "dob_day                       31.0\n",
       "dob_year                    2000.0\n",
       "dob_month                     12.0\n",
       "tenure                      2697.0\n",
       "friend_count                4917.0\n",
       "friendships_initiated       4144.0\n",
       "likes                      25111.0\n",
       "likes_received            261197.0\n",
       "mobile_likes               25111.0\n",
       "mobile_likes_received     138561.0\n",
       "www_likes                  14865.0\n",
       "www_likes_received        129953.0\n",
       "dtype: float64"
      ]
     },
     "execution_count": 13,
     "metadata": {},
     "output_type": "execute_result"
    }
   ],
   "source": [
    "filtered.max()"
   ]
  },
  {
   "cell_type": "markdown",
   "metadata": {},
   "source": [
    "**NOTE:** Hypothes #(1) is proved **true** as max(age) is 95 after finding outliers"
   ]
  },
  {
   "cell_type": "code",
   "execution_count": 14,
   "metadata": {
    "scrolled": true
   },
   "outputs": [
    {
     "name": "stdout",
     "output_type": "stream",
     "text": [
      "<class 'pandas.core.frame.DataFrame'>\n",
      "Int64Index: 120 entries, 3224 to 97530\n",
      "Data columns (total 15 columns):\n",
      "userid                   120 non-null int64\n",
      "age                      120 non-null int64\n",
      "dob_day                  120 non-null int64\n",
      "dob_year                 120 non-null int64\n",
      "dob_month                120 non-null int64\n",
      "gender                   0 non-null object\n",
      "tenure                   120 non-null float64\n",
      "friend_count             120 non-null int64\n",
      "friendships_initiated    120 non-null int64\n",
      "likes                    120 non-null int64\n",
      "likes_received           120 non-null int64\n",
      "mobile_likes             120 non-null int64\n",
      "mobile_likes_received    120 non-null int64\n",
      "www_likes                120 non-null int64\n",
      "www_likes_received       120 non-null int64\n",
      "dtypes: float64(1), int64(13), object(1)\n",
      "memory usage: 15.0+ KB\n"
     ]
    }
   ],
   "source": [
    "temp_df=filtered[filtered['gender'].isnull()]\n",
    "temp_df.info()"
   ]
  },
  {
   "cell_type": "markdown",
   "metadata": {},
   "source": [
    "There are 120 person with no gender details so their gender could be replaced with mode(gender) but mean(age) i.e. having similar age.  "
   ]
  },
  {
   "cell_type": "code",
   "execution_count": 15,
   "metadata": {},
   "outputs": [
    {
     "name": "stdout",
     "output_type": "stream",
     "text": [
      "15 95 1 1609\n"
     ]
    }
   ],
   "source": [
    "minAge=temp_df.age.min()\n",
    "maxAge=temp_df.age.max()\n",
    "minFc=temp_df.friend_count.min()\n",
    "maxFc=temp_df.friend_count.max()\n",
    "print(minAge,maxAge,minFc,maxFc)"
   ]
  },
  {
   "cell_type": "code",
   "execution_count": 16,
   "metadata": {},
   "outputs": [
    {
     "data": {
      "text/plain": [
       "0    male\n",
       "dtype: object"
      ]
     },
     "execution_count": 16,
     "metadata": {},
     "output_type": "execute_result"
    }
   ],
   "source": [
    "filtered['gender'][(filtered.age >=15) & (filtered.age <=95) & (filtered.friend_count <=1609)].mode()"
   ]
  },
  {
   "cell_type": "markdown",
   "metadata": {},
   "source": [
    "**Analysis:** Acoording above analysis we could replace missing gender data with **male**"
   ]
  },
  {
   "cell_type": "code",
   "execution_count": 17,
   "metadata": {},
   "outputs": [
    {
     "name": "stdout",
     "output_type": "stream",
     "text": [
      "<class 'pandas.core.frame.DataFrame'>\n",
      "Int64Index: 94689 entries, 0 to 99002\n",
      "Data columns (total 15 columns):\n",
      "userid                   94689 non-null int64\n",
      "age                      94689 non-null int64\n",
      "dob_day                  94689 non-null int64\n",
      "dob_year                 94689 non-null int64\n",
      "dob_month                94689 non-null int64\n",
      "gender                   94569 non-null object\n",
      "tenure                   94689 non-null float64\n",
      "friend_count             94689 non-null int64\n",
      "friendships_initiated    94689 non-null int64\n",
      "likes                    94689 non-null int64\n",
      "likes_received           94689 non-null int64\n",
      "mobile_likes             94689 non-null int64\n",
      "mobile_likes_received    94689 non-null int64\n",
      "www_likes                94689 non-null int64\n",
      "www_likes_received       94689 non-null int64\n",
      "dtypes: float64(1), int64(13), object(1)\n",
      "memory usage: 14.1+ MB\n"
     ]
    }
   ],
   "source": [
    "filtered['gender'].fillna(filtered['gender'].mode())\n",
    "filtered.info()"
   ]
  },
  {
   "cell_type": "markdown",
   "metadata": {},
   "source": [
    "# Date of Birth Analysis"
   ]
  },
  {
   "cell_type": "code",
   "execution_count": 18,
   "metadata": {},
   "outputs": [
    {
     "data": {
      "text/plain": [
       "<seaborn.axisgrid.FacetGrid at 0x17dba198898>"
      ]
     },
     "execution_count": 18,
     "metadata": {},
     "output_type": "execute_result"
    },
    {
     "data": {
      "image/png": "[encoded data removed]",
      "text/plain": [
       "<matplotlib.figure.Figure at 0x17db9ddfa90>"
      ]
     },
     "metadata": {},
     "output_type": "display_data"
    }
   ],
   "source": [
    "sns.factorplot(\"dob_day\", data=filtered, aspect=3,kind=\"count\", color='steelblue')\n"
   ]
  },
  {
   "cell_type": "code",
   "execution_count": 19,
   "metadata": {},
   "outputs": [
    {
     "data": {
      "text/plain": [
       "<seaborn.axisgrid.FacetGrid at 0x17dba013080>"
      ]
     },
     "execution_count": 19,
     "metadata": {},
     "output_type": "execute_result"
    },
    {
     "data": {
      "image/png": "[encoded data removed]",
      "text/plain": [
       "<matplotlib.figure.Figure at 0x17dba013c18>"
      ]
     },
     "metadata": {},
     "output_type": "display_data"
    }
   ],
   "source": [
    "sns.factorplot(\"dob_month\", data=filtered, aspect=2,kind=\"count\", color='steelblue')"
   ]
  },
  {
   "cell_type": "code",
   "execution_count": 20,
   "metadata": {
    "scrolled": true
   },
   "outputs": [
    {
     "data": {
      "text/plain": [
       "<matplotlib.axes._subplots.AxesSubplot at 0x17dba6ea4a8>"
      ]
     },
     "execution_count": 20,
     "metadata": {},
     "output_type": "execute_result"
    },
    {
     "data": {
      "image/png": "[encoded data removed]",
      "text/plain": [
       "<matplotlib.figure.Figure at 0x17dba6ded68>"
      ]
     },
     "metadata": {},
     "output_type": "display_data"
    }
   ],
   "source": [
    "sns.kdeplot(filtered['dob_year'])"
   ]
  },
  {
   "cell_type": "code",
   "execution_count": 21,
   "metadata": {
    "scrolled": false
   },
   "outputs": [
    {
     "data": {
      "text/html": [
       "<div>\n",
       "<style scoped>\n",
       "    .dataframe tbody tr th:only-of-type {\n",
       "        vertical-align: middle;\n",
       "    }\n",
       "\n",
       "    .dataframe tbody tr th {\n",
       "        vertical-align: top;\n",
       "    }\n",
       "\n",
       "    .dataframe thead th {\n",
       "        text-align: right;\n",
       "    }\n",
       "</style>\n",
       "<table border=\"1\" class=\"dataframe\">\n",
       "  <thead>\n",
       "    <tr style=\"text-align: right;\">\n",
       "      <th></th>\n",
       "      <th>dob</th>\n",
       "    </tr>\n",
       "  </thead>\n",
       "  <tbody>\n",
       "    <tr>\n",
       "      <th>0</th>\n",
       "      <td>1999-11-19</td>\n",
       "    </tr>\n",
       "    <tr>\n",
       "      <th>1</th>\n",
       "      <td>1999-11-02</td>\n",
       "    </tr>\n",
       "    <tr>\n",
       "      <th>2</th>\n",
       "      <td>1999-11-16</td>\n",
       "    </tr>\n",
       "    <tr>\n",
       "      <th>3</th>\n",
       "      <td>1999-12-25</td>\n",
       "    </tr>\n",
       "    <tr>\n",
       "      <th>4</th>\n",
       "      <td>1999-12-04</td>\n",
       "    </tr>\n",
       "    <tr>\n",
       "      <th>5</th>\n",
       "      <td>1999-12-01</td>\n",
       "    </tr>\n",
       "    <tr>\n",
       "      <th>6</th>\n",
       "      <td>2000-01-14</td>\n",
       "    </tr>\n",
       "    <tr>\n",
       "      <th>7</th>\n",
       "      <td>2000-01-04</td>\n",
       "    </tr>\n",
       "    <tr>\n",
       "      <th>8</th>\n",
       "      <td>2000-01-01</td>\n",
       "    </tr>\n",
       "    <tr>\n",
       "      <th>9</th>\n",
       "      <td>2000-02-02</td>\n",
       "    </tr>\n",
       "  </tbody>\n",
       "</table>\n",
       "</div>"
      ],
      "text/plain": [
       "         dob\n",
       "0 1999-11-19\n",
       "1 1999-11-02\n",
       "2 1999-11-16\n",
       "3 1999-12-25\n",
       "4 1999-12-04\n",
       "5 1999-12-01\n",
       "6 2000-01-14\n",
       "7 2000-01-04\n",
       "8 2000-01-01\n",
       "9 2000-02-02"
      ]
     },
     "execution_count": 21,
     "metadata": {},
     "output_type": "execute_result"
    }
   ],
   "source": [
    "#dob= fb.iloc[:,[2,4,3]]\n",
    "DOB=pd.to_datetime((filtered.dob_year*10000+filtered.dob_month*100+filtered.dob_day).apply(str),format='%Y%m%d')\n",
    "DOB = pd.DataFrame({'dob':DOB.values})\n",
    "DOB.head(10)"
   ]
  },
  {
   "cell_type": "code",
   "execution_count": 151,
   "metadata": {},
   "outputs": [
    {
     "data": {
      "text/html": [
       "<div>\n",
       "<style scoped>\n",
       "    .dataframe tbody tr th:only-of-type {\n",
       "        vertical-align: middle;\n",
       "    }\n",
       "\n",
       "    .dataframe tbody tr th {\n",
       "        vertical-align: top;\n",
       "    }\n",
       "\n",
       "    .dataframe thead th {\n",
       "        text-align: right;\n",
       "    }\n",
       "</style>\n",
       "<table border=\"1\" class=\"dataframe\">\n",
       "  <thead>\n",
       "    <tr style=\"text-align: right;\">\n",
       "      <th></th>\n",
       "      <th>dob</th>\n",
       "    </tr>\n",
       "  </thead>\n",
       "  <tbody>\n",
       "    <tr>\n",
       "      <th>1988-01-01</th>\n",
       "      <td>656</td>\n",
       "    </tr>\n",
       "    <tr>\n",
       "      <th>1987-01-01</th>\n",
       "      <td>393</td>\n",
       "    </tr>\n",
       "    <tr>\n",
       "      <th>1990-01-01</th>\n",
       "      <td>313</td>\n",
       "    </tr>\n",
       "    <tr>\n",
       "      <th>1995-01-01</th>\n",
       "      <td>168</td>\n",
       "    </tr>\n",
       "    <tr>\n",
       "      <th>1980-01-01</th>\n",
       "      <td>164</td>\n",
       "    </tr>\n",
       "  </tbody>\n",
       "</table>\n",
       "</div>"
      ],
      "text/plain": [
       "            dob\n",
       "1988-01-01  656\n",
       "1987-01-01  393\n",
       "1990-01-01  313\n",
       "1995-01-01  168\n",
       "1980-01-01  164"
      ]
     },
     "execution_count": 151,
     "metadata": {},
     "output_type": "execute_result"
    }
   ],
   "source": [
    "dob_count=DOB.dob.value_counts()\n",
    "dob_count=pd.DataFrame(dob_count)\n",
    "dob_count.head(5)"
   ]
  },
  {
   "cell_type": "code",
   "execution_count": 23,
   "metadata": {
    "scrolled": true
   },
   "outputs": [
    {
     "data": {
      "text/plain": [
       "1      4837\n",
       "2      4080\n",
       "3      3027\n",
       "4      2358\n",
       "5      1611\n",
       "6      1208\n",
       "7       925\n",
       "8       713\n",
       "9       577\n",
       "10      466\n",
       "11      357\n",
       "12      275\n",
       "13      215\n",
       "14      196\n",
       "15      146\n",
       "16       98\n",
       "17       67\n",
       "18       54\n",
       "20       35\n",
       "19       34\n",
       "24       18\n",
       "21       17\n",
       "23       17\n",
       "22       12\n",
       "25        8\n",
       "27        6\n",
       "28        6\n",
       "29        4\n",
       "30        4\n",
       "39        3\n",
       "34        3\n",
       "32        2\n",
       "67        2\n",
       "48        1\n",
       "96        1\n",
       "112       1\n",
       "656       1\n",
       "51        1\n",
       "45        1\n",
       "33        1\n",
       "65        1\n",
       "66        1\n",
       "59        1\n",
       "72        1\n",
       "120       1\n",
       "83        1\n",
       "138       1\n",
       "42        1\n",
       "36        1\n",
       "52        1\n",
       "164       1\n",
       "26        1\n",
       "393       1\n",
       "53        1\n",
       "149       1\n",
       "313       1\n",
       "31        1\n",
       "118       1\n",
       "168       1\n",
       "47        1\n",
       "Name: dob, dtype: int64"
      ]
     },
     "execution_count": 23,
     "metadata": {},
     "output_type": "execute_result"
    }
   ],
   "source": [
    "dob_count.dob.value_counts()"
   ]
  },
  {
   "cell_type": "code",
   "execution_count": 24,
   "metadata": {
    "scrolled": true
   },
   "outputs": [
    {
     "data": {
      "text/plain": [
       "<seaborn.axisgrid.FacetGrid at 0x17dba7e06d8>"
      ]
     },
     "execution_count": 24,
     "metadata": {},
     "output_type": "execute_result"
    },
    {
     "data": {
      "image/png": "[encoded data removed]",
      "text/plain": [
       "<matplotlib.figure.Figure at 0x17dba4700f0>"
      ]
     },
     "metadata": {},
     "output_type": "display_data"
    }
   ],
   "source": [
    "sns.factorplot(\"dob\", data=dob_count, aspect=3, kind=\"count\", color='steelblue')"
   ]
  },
  {
   "cell_type": "markdown",
   "metadata": {},
   "source": [
    "**Analysis of above graph:** There are 4837 persons having unique DOB and are more in numbers. Also there are 656 person having same DOB\n"
   ]
  },
  {
   "cell_type": "markdown",
   "metadata": {},
   "source": [
    "# Friend count analysis"
   ]
  },
  {
   "cell_type": "code",
   "execution_count": 25,
   "metadata": {
    "scrolled": true
   },
   "outputs": [
    {
     "name": "stdout",
     "output_type": "stream",
     "text": [
      "<class 'pandas.core.frame.DataFrame'>\n",
      "Int64Index: 94689 entries, 0 to 99002\n",
      "Data columns (total 15 columns):\n",
      "userid                   94689 non-null int64\n",
      "age                      94689 non-null int64\n",
      "dob_day                  94689 non-null int64\n",
      "dob_year                 94689 non-null int64\n",
      "dob_month                94689 non-null int64\n",
      "gender                   94569 non-null object\n",
      "tenure                   94689 non-null float64\n",
      "friend_count             94689 non-null int64\n",
      "friendships_initiated    94689 non-null int64\n",
      "likes                    94689 non-null int64\n",
      "likes_received           94689 non-null int64\n",
      "mobile_likes             94689 non-null int64\n",
      "mobile_likes_received    94689 non-null int64\n",
      "www_likes                94689 non-null int64\n",
      "www_likes_received       94689 non-null int64\n",
      "dtypes: float64(1), int64(13), object(1)\n",
      "memory usage: 14.1+ MB\n"
     ]
    }
   ],
   "source": [
    "filtered.info()"
   ]
  },
  {
   "cell_type": "markdown",
   "metadata": {},
   "source": [
    "### (1)  Gender wise friends count "
   ]
  },
  {
   "cell_type": "code",
   "execution_count": 86,
   "metadata": {
    "scrolled": true
   },
   "outputs": [
    {
     "name": "stdout",
     "output_type": "stream",
     "text": [
      "Male =  56011 \n",
      "\n",
      "Male =  38558 \n",
      "\n",
      "Total=  94569 \n",
      "\n"
     ]
    },
    {
     "data": {
      "text/plain": [
       "True"
      ]
     },
     "execution_count": 86,
     "metadata": {},
     "output_type": "execute_result"
    }
   ],
   "source": [
    "#Checking sum(gender ) == total persons\n",
    "m=filtered.gender.value_counts()['male']\n",
    "f=filtered.gender.value_counts()['female']\n",
    "print('Male = ',m,'\\n')\n",
    "print('Male = ',f,'\\n')\n",
    "print('Total= ',filtered.count()['gender'],'\\n')\n",
    "filtered.count()['gender']==m+f\n",
    "#fb.word.value_counts()['gender']"
   ]
  },
  {
   "cell_type": "code",
   "execution_count": 27,
   "metadata": {
    "scrolled": true
   },
   "outputs": [
    {
     "data": {
      "image/png": "[encoded data removed]",
      "text/plain": [
       "<matplotlib.figure.Figure at 0x17db8402710>"
      ]
     },
     "metadata": {},
     "output_type": "display_data"
    }
   ],
   "source": [
    "import matplotlib.pyplot as plt\n",
    "%matplotlib inline\n",
    "labels = 'Female', 'Male'\n",
    "sizes = [f,m]\n",
    "explode = (0.1, 0.2)  \n",
    "\n",
    "plt.pie(sizes, explode=explode, labels=labels, autopct='%1.2f%%',\n",
    "        shadow=True, startangle=20)\n",
    "\n",
    "plt.show()"
   ]
  },
  {
   "cell_type": "markdown",
   "metadata": {},
   "source": [
    "**Hypothesis #(2):** Male should have more friends.\n",
    "\n",
    "\n",
    "Now the data should be distrubuted according to **age groups**:\n",
    "    \n",
    "group     age    \n",
    "\n",
    "1         child (0–15)\n",
    "\n",
    "2         teenager (16-19)\n",
    "\n",
    "3         young-adult (20–30)\n",
    "\n",
    "4         adult(31–50)\n",
    "\n",
    "5         senior-adult (51-64) \n",
    "\n",
    "6         old (>64)"
   ]
  },
  {
   "cell_type": "code",
   "execution_count": 28,
   "metadata": {},
   "outputs": [],
   "source": [
    "# Adding new column \"age_group\" according to above classification\n",
    "age_group=[]\n",
    "for age in filtered['age']:\n",
    "    if age > 64:\n",
    "        age_group.append('old')\n",
    "    elif age>50:\n",
    "        age_group.append('senior-adult')\n",
    "    elif age>30:\n",
    "        age_group.append('adult')\n",
    "    elif age>19:\n",
    "        age_group.append('young-adult')\n",
    "    elif age>15:\n",
    "        age_group.append('teenager')\n",
    "    else:\n",
    "        age_group.append('child')"
   ]
  },
  {
   "cell_type": "code",
   "execution_count": 29,
   "metadata": {},
   "outputs": [
    {
     "name": "stdout",
     "output_type": "stream",
     "text": [
      "<class 'pandas.core.frame.DataFrame'>\n",
      "Int64Index: 94689 entries, 0 to 99002\n",
      "Data columns (total 16 columns):\n",
      "userid                   94689 non-null int64\n",
      "age                      94689 non-null int64\n",
      "dob_day                  94689 non-null int64\n",
      "dob_year                 94689 non-null int64\n",
      "dob_month                94689 non-null int64\n",
      "gender                   94569 non-null object\n",
      "tenure                   94689 non-null float64\n",
      "friend_count             94689 non-null int64\n",
      "friendships_initiated    94689 non-null int64\n",
      "likes                    94689 non-null int64\n",
      "likes_received           94689 non-null int64\n",
      "mobile_likes             94689 non-null int64\n",
      "mobile_likes_received    94689 non-null int64\n",
      "www_likes                94689 non-null int64\n",
      "www_likes_received       94689 non-null int64\n",
      "age_group                94689 non-null object\n",
      "dtypes: float64(1), int64(13), object(2)\n",
      "memory usage: 14.8+ MB\n"
     ]
    },
    {
     "name": "stderr",
     "output_type": "stream",
     "text": [
      "C:\\ProgramData\\Anaconda3\\lib\\site-packages\\ipykernel_launcher.py:1: SettingWithCopyWarning: \n",
      "A value is trying to be set on a copy of a slice from a DataFrame.\n",
      "Try using .loc[row_indexer,col_indexer] = value instead\n",
      "\n",
      "See the caveats in the documentation: http://pandas.pydata.org/pandas-docs/stable/indexing.html#indexing-view-versus-copy\n",
      "  \"\"\"Entry point for launching an IPython kernel.\n"
     ]
    }
   ],
   "source": [
    "filtered['age_group'] = age_group\n",
    "filtered.info()\n",
    "# for droping the column use: \n",
    "#filtered = filtered.drop('age_group', 1)\n"
   ]
  },
  {
   "cell_type": "code",
   "execution_count": 30,
   "metadata": {},
   "outputs": [
    {
     "data": {
      "text/plain": [
       "95"
      ]
     },
     "execution_count": 30,
     "metadata": {},
     "output_type": "execute_result"
    }
   ],
   "source": [
    "filtered['age'].max()\n",
    "#filtered.iloc[:,[1,15]]"
   ]
  },
  {
   "cell_type": "code",
   "execution_count": 31,
   "metadata": {},
   "outputs": [
    {
     "data": {
      "text/html": [
       "<div>\n",
       "<style scoped>\n",
       "    .dataframe tbody tr th:only-of-type {\n",
       "        vertical-align: middle;\n",
       "    }\n",
       "\n",
       "    .dataframe tbody tr th {\n",
       "        vertical-align: top;\n",
       "    }\n",
       "\n",
       "    .dataframe thead th {\n",
       "        text-align: right;\n",
       "    }\n",
       "</style>\n",
       "<table border=\"1\" class=\"dataframe\">\n",
       "  <thead>\n",
       "    <tr style=\"text-align: right;\">\n",
       "      <th></th>\n",
       "      <th>age_group</th>\n",
       "    </tr>\n",
       "  </thead>\n",
       "  <tbody>\n",
       "    <tr>\n",
       "      <th>young-adult</th>\n",
       "      <td>32415</td>\n",
       "    </tr>\n",
       "    <tr>\n",
       "      <th>adult</th>\n",
       "      <td>21459</td>\n",
       "    </tr>\n",
       "    <tr>\n",
       "      <th>teenager</th>\n",
       "      <td>15956</td>\n",
       "    </tr>\n",
       "    <tr>\n",
       "      <th>senior-adult</th>\n",
       "      <td>12503</td>\n",
       "    </tr>\n",
       "    <tr>\n",
       "      <th>old</th>\n",
       "      <td>7329</td>\n",
       "    </tr>\n",
       "    <tr>\n",
       "      <th>child</th>\n",
       "      <td>5027</td>\n",
       "    </tr>\n",
       "  </tbody>\n",
       "</table>\n",
       "</div>"
      ],
      "text/plain": [
       "              age_group\n",
       "young-adult       32415\n",
       "adult             21459\n",
       "teenager          15956\n",
       "senior-adult      12503\n",
       "old                7329\n",
       "child              5027"
      ]
     },
     "execution_count": 31,
     "metadata": {},
     "output_type": "execute_result"
    }
   ],
   "source": [
    "age_count=filtered.age_group.value_counts()\n",
    "age_count=pd.DataFrame(age_count)\n",
    "age_count"
   ]
  },
  {
   "cell_type": "code",
   "execution_count": 32,
   "metadata": {},
   "outputs": [
    {
     "data": {
      "image/png": "[encoded data removed]",
      "text/plain": [
       "<matplotlib.figure.Figure at 0x17dba3e7278>"
      ]
     },
     "metadata": {},
     "output_type": "display_data"
    }
   ],
   "source": [
    "labels = 'young-adult','adult','teenager','senior-adult','O L D','child'\n",
    "\n",
    "sizes = filtered.age_group.value_counts()\n",
    "explode = (0.1, 0.2,0.3,0.4,0.5,0.6)  \n",
    "\n",
    "plt.pie(sizes, explode=explode, labels=labels, autopct='%1.2f%%',shadow=True, startangle=20)\n",
    "\n",
    "plt.show()"
   ]
  },
  {
   "cell_type": "code",
   "execution_count": 33,
   "metadata": {},
   "outputs": [
    {
     "data": {
      "text/plain": [
       "young-adult     32415\n",
       "adult           21459\n",
       "teenager        15956\n",
       "senior-adult    12503\n",
       "old              7329\n",
       "child            5027\n",
       "Name: age_group, dtype: int64"
      ]
     },
     "execution_count": 33,
     "metadata": {},
     "output_type": "execute_result"
    }
   ],
   "source": [
    "filtered.age_group.value_counts()"
   ]
  },
  {
   "cell_type": "code",
   "execution_count": 52,
   "metadata": {
    "scrolled": false
   },
   "outputs": [
    {
     "data": {
      "image/png": "[encoded data removed]",
      "text/plain": [
       "<matplotlib.figure.Figure at 0x17dba74c860>"
      ]
     },
     "metadata": {},
     "output_type": "display_data"
    }
   ],
   "source": [
    "import numpy as np\n",
    "\n",
    "#For spacious graph plot\n",
    "np.random.seed(0)\n",
    "n, p = 40, 8\n",
    "d = np.random.normal(0, 2, (n, p))\n",
    "d += np.log(np.arange(1, p + 1)) * -5 + 10\n",
    "\n",
    "# plot\n",
    "sns.set(style=\"whitegrid\", palette=\"pastel\", color_codes=True)\n",
    "fig, ax = plt.subplots()\n",
    "# the size of A4 paper\n",
    "fig.set_size_inches(11.7, 8.27)\n",
    "\n",
    "# Draw a nested violinplot and split the violins for easier comparison\n",
    "sns.violinplot(x=\"age_group\", y=\"friend_count\", hue=\"gender\", data=filtered, split=True,\n",
    "               inner=\"quart\", palette={\"male\": \"b\", \"female\": \"pink\"}, ax=ax)\n",
    "sns.despine()\n",
    "fig.savefig('example.png')"
   ]
  },
  {
   "cell_type": "markdown",
   "metadata": {},
   "source": [
    "**ANALYSIS:** \n",
    "\n",
    "- This means FEMALEs have more number of friend in different age_group excep OLD aged persons.\n",
    "\n",
    "- Teenagers have more number of friends\n",
    "\n",
    "- We can visualize it also with classical bar plot given below."
   ]
  },
  {
   "cell_type": "code",
   "execution_count": 81,
   "metadata": {},
   "outputs": [
    {
     "data": {
      "text/plain": [
       "<seaborn.axisgrid.FacetGrid at 0x17dba16b208>"
      ]
     },
     "execution_count": 81,
     "metadata": {},
     "output_type": "execute_result"
    },
    {
     "data": {
      "image/png": "[encoded data removed]",
      "text/plain": [
       "<matplotlib.figure.Figure at 0x17dba8b6240>"
      ]
     },
     "metadata": {},
     "output_type": "display_data"
    }
   ],
   "source": [
    "sns.set(style=\"whitegrid\")\n",
    "\n",
    "# Draw a nested barplot to show friend_count for age_group and gender\n",
    "g = sns.factorplot(x=\"age_group\", y=\"friend_count\", hue=\"gender\", data=filtered,\n",
    "                   size=6, kind=\"bar\", palette=\"muted\")\n",
    "g.despine(left=True)\n",
    "g.set_ylabels(\"frient_count\")"
   ]
  },
  {
   "cell_type": "code",
   "execution_count": 71,
   "metadata": {
    "scrolled": false
   },
   "outputs": [
    {
     "data": {
      "image/png": "[encoded data removed]",
      "text/plain": [
       "<matplotlib.figure.Figure at 0x17dc0af8240>"
      ]
     },
     "metadata": {},
     "output_type": "display_data"
    }
   ],
   "source": [
    "#For spacious graph plot\n",
    "np.random.seed(0)\n",
    "n, p = 40, 8\n",
    "d = np.random.normal(0, 2, (n, p))\n",
    "d += np.log(np.arange(1, p + 1)) * -5 + 10\n",
    "\n",
    "# plot\n",
    "sns.set(style=\"whitegrid\", palette=\"pastel\", color_codes=True)\n",
    "fig, ax = plt.subplots()\n",
    "# the size of A4 paper\n",
    "fig.set_size_inches(11.7, 8.27)\n",
    "\n",
    "# Draw a nested violinplot and split the violins for easier comparison\n",
    "\n",
    "sns.violinplot(x=\"gender\", y=\"friend_count\", data=filtered, split=True, scale='width',\n",
    "               inner=\"quart\", ax=ax)\n",
    "\n",
    "#sns.violinplot(x=\"gender\", y=\"friend_count\", hue=\"age_group\", data=filtered, split=True,\n",
    "#               inner=\"quart\", palette={\"male\": \"b\", \"female\": \"pink\"}, ax=ax)\n",
    "\n",
    "sns.despine()\n",
    "fig.savefig('example1.png')"
   ]
  },
  {
   "cell_type": "markdown",
   "metadata": {},
   "source": [
    "**ANALYSIS:**\n",
    "\n",
    "- This means FEMALEs have more number of friend in general. \n",
    "\n",
    "- We can visualize it also with classical bar plot given below."
   ]
  },
  {
   "cell_type": "code",
   "execution_count": 80,
   "metadata": {},
   "outputs": [
    {
     "data": {
      "text/plain": [
       "<seaborn.axisgrid.FacetGrid at 0x17dbc28c9b0>"
      ]
     },
     "execution_count": 80,
     "metadata": {},
     "output_type": "execute_result"
    },
    {
     "data": {
      "image/png": "[encoded data removed]",
      "text/plain": [
       "<matplotlib.figure.Figure at 0x17dba8de908>"
      ]
     },
     "metadata": {},
     "output_type": "display_data"
    }
   ],
   "source": [
    "sns.set(style=\"whitegrid\")\n",
    "\n",
    "# Draw a nested barplot to show friend_count for age_group and gender\n",
    "g = sns.factorplot(x=\"gender\", y=\"friend_count\", data=filtered,\n",
    "                   size=6, kind=\"bar\", palette=\"muted\")\n",
    "g.despine(left=True)\n",
    "g.set_ylabels(\"frient_count\")"
   ]
  },
  {
   "cell_type": "markdown",
   "metadata": {},
   "source": [
    "### (2) Age wise friends count"
   ]
  },
  {
   "cell_type": "code",
   "execution_count": 143,
   "metadata": {
    "scrolled": false
   },
   "outputs": [
    {
     "data": {
      "text/plain": [
       "<seaborn.axisgrid.FacetGrid at 0x17ddc8b6390>"
      ]
     },
     "execution_count": 143,
     "metadata": {},
     "output_type": "execute_result"
    },
    {
     "data": {
      "image/png": "[encoded data removed]",
      "text/plain": [
       "<matplotlib.figure.Figure at 0x17dd69c4f28>"
      ]
     },
     "metadata": {},
     "output_type": "display_data"
    }
   ],
   "source": [
    "sns.set(style=\"whitegrid\")\n",
    "\n",
    "# Draw a nested barplot to show friend_count for age_group and gender\n",
    "g = sns.factorplot(x=\"friend_count\", y=\"age\", data=filtered,\n",
    "                   size=4, kind=\"bar\", palette=\"muted\", aspect=3)\n",
    "g.despine(left=True)\n",
    "g.set_ylabels(\"age\")\n",
    "g.set_xticklabels(step=50)"
   ]
  },
  {
   "cell_type": "markdown",
   "metadata": {},
   "source": [
    "**NOTE:** Hypothesis #(2) is proved **False**\n",
    "\n",
    "- Though number of males are more but Females have more number of friends."
   ]
  },
  {
   "cell_type": "code",
   "execution_count": 144,
   "metadata": {},
   "outputs": [
    {
     "data": {
      "text/plain": [
       "<seaborn.axisgrid.FacetGrid at 0x17dd63079b0>"
      ]
     },
     "execution_count": 144,
     "metadata": {},
     "output_type": "execute_result"
    },
    {
     "data": {
      "image/png": "[encoded data removed]",
      "text/plain": [
       "<matplotlib.figure.Figure at 0x17dd7ac4dd8>"
      ]
     },
     "metadata": {},
     "output_type": "display_data"
    }
   ],
   "source": [
    "sns.lmplot(x=\"age\", y=\"friend_count\", data=filtered, x_estimator=np.mean)"
   ]
  },
  {
   "cell_type": "code",
   "execution_count": 82,
   "metadata": {},
   "outputs": [
    {
     "data": {
      "text/plain": [
       "<seaborn.axisgrid.JointGrid at 0x17dba71a630>"
      ]
     },
     "execution_count": 82,
     "metadata": {},
     "output_type": "execute_result"
    },
    {
     "data": {
      "image/png": "[encoded data removed]",
      "text/plain": [
       "<matplotlib.figure.Figure at 0x17dba71a160>"
      ]
     },
     "metadata": {},
     "output_type": "display_data"
    }
   ],
   "source": [
    "sns.jointplot(x=\"age\", y=\"friend_count\", data=filtered, kind=\"kde\")"
   ]
  },
  {
   "cell_type": "code",
   "execution_count": 108,
   "metadata": {},
   "outputs": [
    {
     "data": {
      "text/plain": [
       "<seaborn.axisgrid.FacetGrid at 0x17dd5730a58>"
      ]
     },
     "execution_count": 108,
     "metadata": {},
     "output_type": "execute_result"
    },
    {
     "data": {
      "image/png": "[encoded data removed]",
      "text/plain": [
       "<matplotlib.figure.Figure at 0x17dd73be2b0>"
      ]
     },
     "metadata": {},
     "output_type": "display_data"
    }
   ],
   "source": [
    "sns.set(style=\"white\")\n",
    "years = np.arange(filtered['age'].min(), filtered['age'].max())\n",
    "# Draw a count plot to show the number of friends with age\n",
    "g = sns.factorplot(x=\"friend_count\", data=filtered, kind=\"count\",\n",
    "                   palette=\"BuPu\", size=5, aspect=2, order=years)\n",
    "g.set_xticklabels(step=2)"
   ]
  },
  {
   "cell_type": "markdown",
   "metadata": {},
   "source": [
    "**Analysis:** \n",
    "- Person havin age 24 years have maximum number of Friends\n",
    "\n",
    "**Hypothesis #(3):** Gender of persons having more number of friends is **female**"
   ]
  },
  {
   "cell_type": "code",
   "execution_count": 117,
   "metadata": {},
   "outputs": [
    {
     "data": {
      "text/html": [
       "<div>\n",
       "<style scoped>\n",
       "    .dataframe tbody tr th:only-of-type {\n",
       "        vertical-align: middle;\n",
       "    }\n",
       "\n",
       "    .dataframe tbody tr th {\n",
       "        vertical-align: top;\n",
       "    }\n",
       "\n",
       "    .dataframe thead th {\n",
       "        text-align: right;\n",
       "    }\n",
       "</style>\n",
       "<table border=\"1\" class=\"dataframe\">\n",
       "  <thead>\n",
       "    <tr style=\"text-align: right;\">\n",
       "      <th></th>\n",
       "      <th>userid</th>\n",
       "      <th>age</th>\n",
       "      <th>dob_day</th>\n",
       "      <th>dob_year</th>\n",
       "      <th>dob_month</th>\n",
       "      <th>gender</th>\n",
       "      <th>tenure</th>\n",
       "      <th>friend_count</th>\n",
       "      <th>friendships_initiated</th>\n",
       "      <th>likes</th>\n",
       "      <th>likes_received</th>\n",
       "      <th>mobile_likes</th>\n",
       "      <th>mobile_likes_received</th>\n",
       "      <th>www_likes</th>\n",
       "      <th>www_likes_received</th>\n",
       "      <th>age_group</th>\n",
       "    </tr>\n",
       "  </thead>\n",
       "  <tbody>\n",
       "    <tr>\n",
       "      <th>445</th>\n",
       "      <td>1487491</td>\n",
       "      <td>24</td>\n",
       "      <td>5</td>\n",
       "      <td>1989</td>\n",
       "      <td>11</td>\n",
       "      <td>male</td>\n",
       "      <td>513.0</td>\n",
       "      <td>0</td>\n",
       "      <td>0</td>\n",
       "      <td>0</td>\n",
       "      <td>0</td>\n",
       "      <td>0</td>\n",
       "      <td>0</td>\n",
       "      <td>0</td>\n",
       "      <td>0</td>\n",
       "      <td>young-adult</td>\n",
       "    </tr>\n",
       "    <tr>\n",
       "      <th>446</th>\n",
       "      <td>1635754</td>\n",
       "      <td>24</td>\n",
       "      <td>18</td>\n",
       "      <td>1989</td>\n",
       "      <td>11</td>\n",
       "      <td>male</td>\n",
       "      <td>350.0</td>\n",
       "      <td>0</td>\n",
       "      <td>0</td>\n",
       "      <td>0</td>\n",
       "      <td>0</td>\n",
       "      <td>0</td>\n",
       "      <td>0</td>\n",
       "      <td>0</td>\n",
       "      <td>0</td>\n",
       "      <td>young-adult</td>\n",
       "    </tr>\n",
       "    <tr>\n",
       "      <th>447</th>\n",
       "      <td>2022509</td>\n",
       "      <td>24</td>\n",
       "      <td>25</td>\n",
       "      <td>1989</td>\n",
       "      <td>11</td>\n",
       "      <td>female</td>\n",
       "      <td>197.0</td>\n",
       "      <td>0</td>\n",
       "      <td>0</td>\n",
       "      <td>0</td>\n",
       "      <td>0</td>\n",
       "      <td>0</td>\n",
       "      <td>0</td>\n",
       "      <td>0</td>\n",
       "      <td>0</td>\n",
       "      <td>young-adult</td>\n",
       "    </tr>\n",
       "    <tr>\n",
       "      <th>448</th>\n",
       "      <td>1843594</td>\n",
       "      <td>24</td>\n",
       "      <td>28</td>\n",
       "      <td>1989</td>\n",
       "      <td>11</td>\n",
       "      <td>male</td>\n",
       "      <td>9.0</td>\n",
       "      <td>0</td>\n",
       "      <td>0</td>\n",
       "      <td>0</td>\n",
       "      <td>0</td>\n",
       "      <td>0</td>\n",
       "      <td>0</td>\n",
       "      <td>0</td>\n",
       "      <td>0</td>\n",
       "      <td>young-adult</td>\n",
       "    </tr>\n",
       "    <tr>\n",
       "      <th>449</th>\n",
       "      <td>1439827</td>\n",
       "      <td>24</td>\n",
       "      <td>26</td>\n",
       "      <td>1989</td>\n",
       "      <td>12</td>\n",
       "      <td>male</td>\n",
       "      <td>764.0</td>\n",
       "      <td>0</td>\n",
       "      <td>0</td>\n",
       "      <td>0</td>\n",
       "      <td>0</td>\n",
       "      <td>0</td>\n",
       "      <td>0</td>\n",
       "      <td>0</td>\n",
       "      <td>0</td>\n",
       "      <td>young-adult</td>\n",
       "    </tr>\n",
       "  </tbody>\n",
       "</table>\n",
       "</div>"
      ],
      "text/plain": [
       "      userid  age  dob_day  dob_year  dob_month  gender  tenure  friend_count  \\\n",
       "445  1487491   24        5      1989         11    male   513.0             0   \n",
       "446  1635754   24       18      1989         11    male   350.0             0   \n",
       "447  2022509   24       25      1989         11  female   197.0             0   \n",
       "448  1843594   24       28      1989         11    male     9.0             0   \n",
       "449  1439827   24       26      1989         12    male   764.0             0   \n",
       "\n",
       "     friendships_initiated  likes  likes_received  mobile_likes  \\\n",
       "445                      0      0               0             0   \n",
       "446                      0      0               0             0   \n",
       "447                      0      0               0             0   \n",
       "448                      0      0               0             0   \n",
       "449                      0      0               0             0   \n",
       "\n",
       "     mobile_likes_received  www_likes  www_likes_received    age_group  \n",
       "445                      0          0                   0  young-adult  \n",
       "446                      0          0                   0  young-adult  \n",
       "447                      0          0                   0  young-adult  \n",
       "448                      0          0                   0  young-adult  \n",
       "449                      0          0                   0  young-adult  "
      ]
     },
     "execution_count": 117,
     "metadata": {},
     "output_type": "execute_result"
    }
   ],
   "source": [
    "# Lets split the dataframe with age==24 \n",
    "temp_df=filtered.loc[filtered['age']==24]\n",
    "  \n",
    "temp_df.head(5)"
   ]
  },
  {
   "cell_type": "code",
   "execution_count": 123,
   "metadata": {},
   "outputs": [
    {
     "data": {
      "text/html": [
       "<div>\n",
       "<style scoped>\n",
       "    .dataframe tbody tr th:only-of-type {\n",
       "        vertical-align: middle;\n",
       "    }\n",
       "\n",
       "    .dataframe tbody tr th {\n",
       "        vertical-align: top;\n",
       "    }\n",
       "\n",
       "    .dataframe thead th {\n",
       "        text-align: right;\n",
       "    }\n",
       "</style>\n",
       "<table border=\"1\" class=\"dataframe\">\n",
       "  <thead>\n",
       "    <tr style=\"text-align: right;\">\n",
       "      <th></th>\n",
       "      <th>gender</th>\n",
       "      <th>friend_count</th>\n",
       "    </tr>\n",
       "  </thead>\n",
       "  <tbody>\n",
       "    <tr>\n",
       "      <th>445</th>\n",
       "      <td>male</td>\n",
       "      <td>0</td>\n",
       "    </tr>\n",
       "    <tr>\n",
       "      <th>446</th>\n",
       "      <td>male</td>\n",
       "      <td>0</td>\n",
       "    </tr>\n",
       "    <tr>\n",
       "      <th>447</th>\n",
       "      <td>female</td>\n",
       "      <td>0</td>\n",
       "    </tr>\n",
       "    <tr>\n",
       "      <th>448</th>\n",
       "      <td>male</td>\n",
       "      <td>0</td>\n",
       "    </tr>\n",
       "    <tr>\n",
       "      <th>449</th>\n",
       "      <td>male</td>\n",
       "      <td>0</td>\n",
       "    </tr>\n",
       "  </tbody>\n",
       "</table>\n",
       "</div>"
      ],
      "text/plain": [
       "     gender  friend_count\n",
       "445    male             0\n",
       "446    male             0\n",
       "447  female             0\n",
       "448    male             0\n",
       "449    male             0"
      ]
     },
     "execution_count": 123,
     "metadata": {},
     "output_type": "execute_result"
    }
   ],
   "source": [
    "# Now lets slice 'gender','friend_count' from above DataFrame\n",
    "age24_df=temp_df.iloc[:,[5,7]]\n",
    "  \n",
    "age24_df.head(5)"
   ]
  },
  {
   "cell_type": "code",
   "execution_count": 140,
   "metadata": {},
   "outputs": [
    {
     "data": {
      "text/plain": [
       "<seaborn.axisgrid.FacetGrid at 0x17dd6f2ea90>"
      ]
     },
     "execution_count": 140,
     "metadata": {},
     "output_type": "execute_result"
    },
    {
     "data": {
      "image/png": "[encoded data removed]",
      "text/plain": [
       "<matplotlib.figure.Figure at 0x17dd6267b00>"
      ]
     },
     "metadata": {},
     "output_type": "display_data"
    }
   ],
   "source": [
    "sns.set(style=\"whitegrid\")\n",
    "\n",
    "# Draw a nested barplot to show friend_count for age_group and gender\n",
    "g = sns.factorplot(x=\"friend_count\", y=\"gender\", data=age24_df,\n",
    "                   size=4, kind=\"box\", palette=\"muted\",aspect=4)\n",
    "g.despine(left=True)\n",
    "g.set_ylabels(\"frient_count\")"
   ]
  },
  {
   "cell_type": "markdown",
   "metadata": {},
   "source": [
    "**Analysis:** Hypothesis #(3) is proved **True** i.e. Gender of persons having more number of friends is female"
   ]
  },
  {
   "cell_type": "markdown",
   "metadata": {},
   "source": [
    "# Tenure analysis"
   ]
  },
  {
   "cell_type": "code",
   "execution_count": 145,
   "metadata": {},
   "outputs": [
    {
     "name": "stdout",
     "output_type": "stream",
     "text": [
      "<class 'pandas.core.frame.DataFrame'>\n",
      "Int64Index: 94689 entries, 0 to 99002\n",
      "Data columns (total 16 columns):\n",
      "userid                   94689 non-null int64\n",
      "age                      94689 non-null int64\n",
      "dob_day                  94689 non-null int64\n",
      "dob_year                 94689 non-null int64\n",
      "dob_month                94689 non-null int64\n",
      "gender                   94569 non-null object\n",
      "tenure                   94689 non-null float64\n",
      "friend_count             94689 non-null int64\n",
      "friendships_initiated    94689 non-null int64\n",
      "likes                    94689 non-null int64\n",
      "likes_received           94689 non-null int64\n",
      "mobile_likes             94689 non-null int64\n",
      "mobile_likes_received    94689 non-null int64\n",
      "www_likes                94689 non-null int64\n",
      "www_likes_received       94689 non-null int64\n",
      "age_group                94689 non-null object\n",
      "dtypes: float64(1), int64(13), object(2)\n",
      "memory usage: 14.8+ MB\n"
     ]
    }
   ],
   "source": [
    "filtered.info()"
   ]
  },
  {
   "cell_type": "code",
   "execution_count": 152,
   "metadata": {
    "scrolled": true
   },
   "outputs": [
    {
     "data": {
      "text/html": [
       "<div>\n",
       "<style scoped>\n",
       "    .dataframe tbody tr th:only-of-type {\n",
       "        vertical-align: middle;\n",
       "    }\n",
       "\n",
       "    .dataframe tbody tr th {\n",
       "        vertical-align: top;\n",
       "    }\n",
       "\n",
       "    .dataframe thead th {\n",
       "        text-align: right;\n",
       "    }\n",
       "</style>\n",
       "<table border=\"1\" class=\"dataframe\">\n",
       "  <thead>\n",
       "    <tr style=\"text-align: right;\">\n",
       "      <th></th>\n",
       "      <th>tenure</th>\n",
       "    </tr>\n",
       "  </thead>\n",
       "  <tbody>\n",
       "    <tr>\n",
       "      <th>300.0</th>\n",
       "      <td>172</td>\n",
       "    </tr>\n",
       "    <tr>\n",
       "      <th>303.0</th>\n",
       "      <td>167</td>\n",
       "    </tr>\n",
       "    <tr>\n",
       "      <th>242.0</th>\n",
       "      <td>161</td>\n",
       "    </tr>\n",
       "    <tr>\n",
       "      <th>272.0</th>\n",
       "      <td>160</td>\n",
       "    </tr>\n",
       "    <tr>\n",
       "      <th>257.0</th>\n",
       "      <td>159</td>\n",
       "    </tr>\n",
       "  </tbody>\n",
       "</table>\n",
       "</div>"
      ],
      "text/plain": [
       "       tenure\n",
       "300.0     172\n",
       "303.0     167\n",
       "242.0     161\n",
       "272.0     160\n",
       "257.0     159"
      ]
     },
     "execution_count": 152,
     "metadata": {},
     "output_type": "execute_result"
    }
   ],
   "source": [
    "tenure_count=filtered.tenure.value_counts()\n",
    "tenure_count=pd.DataFrame(tenure_count)\n",
    "tenure_count.head(5)"
   ]
  },
  {
   "cell_type": "code",
   "execution_count": 153,
   "metadata": {},
   "outputs": [
    {
     "data": {
      "text/plain": [
       "<seaborn.axisgrid.FacetGrid at 0x17de41ca438>"
      ]
     },
     "execution_count": 153,
     "metadata": {},
     "output_type": "execute_result"
    },
    {
     "data": {
      "image/png": "[encoded data removed]",
      "text/plain": [
       "<matplotlib.figure.Figure at 0x17de41a9b70>"
      ]
     },
     "metadata": {},
     "output_type": "display_data"
    }
   ],
   "source": [
    "sns.factorplot(\"tenure\", data=tenure_count, aspect=3, kind=\"count\", color='steelblue')\n",
    "g.set_xticklabels(step=50)"
   ]
  },
  {
   "cell_type": "markdown",
   "metadata": {},
   "source": [
    "**Analysis:** Max tenure of any person in given data is 172"
   ]
  },
  {
   "cell_type": "markdown",
   "metadata": {},
   "source": [
    "# Fb Like analysis"
   ]
  },
  {
   "cell_type": "code",
   "execution_count": 154,
   "metadata": {},
   "outputs": [
    {
     "name": "stdout",
     "output_type": "stream",
     "text": [
      "<class 'pandas.core.frame.DataFrame'>\n",
      "Int64Index: 94689 entries, 0 to 99002\n",
      "Data columns (total 16 columns):\n",
      "userid                   94689 non-null int64\n",
      "age                      94689 non-null int64\n",
      "dob_day                  94689 non-null int64\n",
      "dob_year                 94689 non-null int64\n",
      "dob_month                94689 non-null int64\n",
      "gender                   94569 non-null object\n",
      "tenure                   94689 non-null float64\n",
      "friend_count             94689 non-null int64\n",
      "friendships_initiated    94689 non-null int64\n",
      "likes                    94689 non-null int64\n",
      "likes_received           94689 non-null int64\n",
      "mobile_likes             94689 non-null int64\n",
      "mobile_likes_received    94689 non-null int64\n",
      "www_likes                94689 non-null int64\n",
      "www_likes_received       94689 non-null int64\n",
      "age_group                94689 non-null object\n",
      "dtypes: float64(1), int64(13), object(2)\n",
      "memory usage: 14.8+ MB\n"
     ]
    }
   ],
   "source": [
    "filtered.info()"
   ]
  },
  {
   "cell_type": "code",
   "execution_count": 155,
   "metadata": {},
   "outputs": [
    {
     "data": {
      "text/html": [
       "<div>\n",
       "<style scoped>\n",
       "    .dataframe tbody tr th:only-of-type {\n",
       "        vertical-align: middle;\n",
       "    }\n",
       "\n",
       "    .dataframe tbody tr th {\n",
       "        vertical-align: top;\n",
       "    }\n",
       "\n",
       "    .dataframe thead th {\n",
       "        text-align: right;\n",
       "    }\n",
       "</style>\n",
       "<table border=\"1\" class=\"dataframe\">\n",
       "  <thead>\n",
       "    <tr style=\"text-align: right;\">\n",
       "      <th></th>\n",
       "      <th>likes</th>\n",
       "    </tr>\n",
       "  </thead>\n",
       "  <tbody>\n",
       "    <tr>\n",
       "      <th>0</th>\n",
       "      <td>21895</td>\n",
       "    </tr>\n",
       "    <tr>\n",
       "      <th>1</th>\n",
       "      <td>6706</td>\n",
       "    </tr>\n",
       "    <tr>\n",
       "      <th>2</th>\n",
       "      <td>4271</td>\n",
       "    </tr>\n",
       "    <tr>\n",
       "      <th>3</th>\n",
       "      <td>3121</td>\n",
       "    </tr>\n",
       "    <tr>\n",
       "      <th>4</th>\n",
       "      <td>2396</td>\n",
       "    </tr>\n",
       "  </tbody>\n",
       "</table>\n",
       "</div>"
      ],
      "text/plain": [
       "   likes\n",
       "0  21895\n",
       "1   6706\n",
       "2   4271\n",
       "3   3121\n",
       "4   2396"
      ]
     },
     "execution_count": 155,
     "metadata": {},
     "output_type": "execute_result"
    }
   ],
   "source": [
    "likes_count=filtered.likes.value_counts()\n",
    "likes_count=pd.DataFrame(likes_count)\n",
    "likes_count.head(5)"
   ]
  },
  {
   "cell_type": "code",
   "execution_count": 158,
   "metadata": {},
   "outputs": [
    {
     "data": {
      "text/plain": [
       "0    1\n",
       "dtype: int64"
      ]
     },
     "execution_count": 158,
     "metadata": {},
     "output_type": "execute_result"
    }
   ],
   "source": [
    "likes_count.likes.mode()"
   ]
  },
  {
   "cell_type": "markdown",
   "metadata": {},
   "source": [
    "**Analysis:** Max like count of any person in given data is 21895."
   ]
  },
  {
   "cell_type": "code",
   "execution_count": 157,
   "metadata": {},
   "outputs": [
    {
     "data": {
      "text/plain": [
       "<seaborn.axisgrid.FacetGrid at 0x17ddc8b6390>"
      ]
     },
     "execution_count": 157,
     "metadata": {},
     "output_type": "execute_result"
    },
    {
     "data": {
      "image/png": "[encoded data removed]",
      "text/plain": [
       "<matplotlib.figure.Figure at 0x17de3dc9fd0>"
      ]
     },
     "metadata": {},
     "output_type": "display_data"
    }
   ],
   "source": [
    "sns.factorplot(\"likes\", data=likes_count, aspect=5, kind=\"count\", color='steelblue')\n",
    "g.set_xticklabels(step=50)"
   ]
  }
 ],
 "metadata": {
  "kernelspec": {
   "display_name": "Python 3",
   "language": "python",
   "name": "python3"
  },
  "language_info": {
   "codemirror_mode": {
    "name": "ipython",
    "version": 3
   },
   "file_extension": ".py",
   "mimetype": "text/x-python",
   "name": "python",
   "nbconvert_exporter": "python",
   "pygments_lexer": "ipython3",
   "version": "3.6.4"
  }
 },
 "nbformat": 4,
 "nbformat_minor": 2
}
